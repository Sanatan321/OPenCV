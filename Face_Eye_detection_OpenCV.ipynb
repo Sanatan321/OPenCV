{
 "cells": [
  {
   "cell_type": "code",
   "execution_count": 1,
   "metadata": {},
   "outputs": [],
   "source": [
    "import numpy as np\n",
    "import cv2"
   ]
  },
  {
   "cell_type": "code",
   "execution_count": 21,
   "metadata": {},
   "outputs": [
    {
     "name": "stdout",
     "output_type": "stream",
     "text": [
      "No face found: 2\n"
     ]
    }
   ],
   "source": [
    "face_classifier=cv2.CascadeClassifier('Haarcascades\\haarcascade_frontalface_default.xml')\n",
    "eye_classifier=cv2.CascadeClassifier('Haarcascades\\haarcascade_eye.xml')\n",
    "\n",
    "img=cv2.imread('G:\\mobile\\Camera\\IMG_20180602_000150.jpg')\n",
    "\n",
    "gray=cv2.cvtColor(img,cv2.COLOR_BGR2GRAY)\n",
    "\n",
    "face=face_classifier.detectMultiScale(gray,1.3,8)\n",
    "\n",
    "print('No face found: {}'.format(len(face)))\n",
    "    \n",
    "for (x,y,w,h) in face:\n",
    "    cv2.rectangle(img,(x,y),(x+w,y+h),(0,0,255),2)\n",
    "    cv2.namedWindow('Face_Detection', cv2.WINDOW_NORMAL)\n",
    "    cv2.imshow('Face_Detection',img)\n",
    "    cv2.waitKey(0)\n",
    "    crp_gray=gray[y:y+h,x:x+w]\n",
    "    crp_img=img[y:y+h,x:x+w]\n",
    "    eye=eye_classifier.detectMultiScale(crp_gray,1.3,5)\n",
    "    for (ex,ey,eh,ew) in eye:\n",
    "        cv2.rectangle(crp_img,(ex,ey),(ex+ew,ey+eh),(0,255,0),2)\n",
    "        cv2.namedWindow('Face_Detection', cv2.WINDOW_NORMAL)\n",
    "        cv2.imshow('Face_Detection',img)\n",
    "        cv2.waitKey(0)\n",
    "cv2.destroyAllWindows()"
   ]
  },
  {
   "cell_type": "code",
   "execution_count": null,
   "metadata": {},
   "outputs": [],
   "source": []
  },
  {
   "cell_type": "code",
   "execution_count": null,
   "metadata": {},
   "outputs": [],
   "source": []
  },
  {
   "cell_type": "code",
   "execution_count": null,
   "metadata": {},
   "outputs": [],
   "source": []
  },
  {
   "cell_type": "code",
   "execution_count": null,
   "metadata": {},
   "outputs": [],
   "source": []
  },
  {
   "cell_type": "code",
   "execution_count": null,
   "metadata": {},
   "outputs": [],
   "source": []
  },
  {
   "cell_type": "code",
   "execution_count": null,
   "metadata": {},
   "outputs": [],
   "source": []
  },
  {
   "cell_type": "code",
   "execution_count": null,
   "metadata": {},
   "outputs": [],
   "source": []
  },
  {
   "cell_type": "code",
   "execution_count": null,
   "metadata": {},
   "outputs": [],
   "source": []
  },
  {
   "cell_type": "code",
   "execution_count": null,
   "metadata": {},
   "outputs": [],
   "source": []
  }
 ],
 "metadata": {
  "kernelspec": {
   "display_name": "Python 3",
   "language": "python",
   "name": "python3"
  },
  "language_info": {
   "codemirror_mode": {
    "name": "ipython",
    "version": 3
   },
   "file_extension": ".py",
   "mimetype": "text/x-python",
   "name": "python",
   "nbconvert_exporter": "python",
   "pygments_lexer": "ipython3",
   "version": "3.7.6"
  }
 },
 "nbformat": 4,
 "nbformat_minor": 4
}
